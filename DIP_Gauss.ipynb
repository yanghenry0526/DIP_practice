{
 "cells": [
  {
   "cell_type": "code",
   "execution_count": 1,
   "id": "1ec4f309",
   "metadata": {},
   "outputs": [
    {
     "data": {
      "text/plain": [
       "True"
      ]
     },
     "execution_count": 1,
     "metadata": {},
     "output_type": "execute_result"
    }
   ],
   "source": [
    "import numpy as np\n",
    "import cv2\n",
    "from numpy.random import uniform,normal  #隨機取樣的指令\n",
    "\n",
    "imgs = cv2.imread('test.jpg')\n",
    "imgs = cv2.resize(imgs, (225, 225))\n",
    "imgs = cv2.cvtColor(imgs , cv2.COLOR_BGR2GRAY)  #將圖檔轉稱灰階\n",
    "\n",
    "result = imgs\n",
    "white = 0\n",
    "black = 0\n",
    "probability = 0.2 # 機率  百分之20的雜訊\n",
    "r , c = imgs.shape[0:2]   \n",
    "\n",
    "for x in range (r):\n",
    "    for y in range(c):\n",
    "        value = imgs[x,y] + normal(0,50)  #平均值通常是0，標準差可為5,10,20,30，標準差越大，noise越重\n",
    "        result[x,y] = np.uint(np.clip(value , 0 , 255)) #切割到0-255之間\n",
    "        \n",
    "        \n",
    "cv2.imwrite('gauss_noise_test_50.jpg' , result)"
   ]
  },
  {
   "cell_type": "code",
   "execution_count": null,
   "id": "3c7d8d9e",
   "metadata": {},
   "outputs": [],
   "source": []
  }
 ],
 "metadata": {
  "kernelspec": {
   "display_name": "Python 3 (ipykernel)",
   "language": "python",
   "name": "python3"
  },
  "language_info": {
   "codemirror_mode": {
    "name": "ipython",
    "version": 3
   },
   "file_extension": ".py",
   "mimetype": "text/x-python",
   "name": "python",
   "nbconvert_exporter": "python",
   "pygments_lexer": "ipython3",
   "version": "3.7.13"
  }
 },
 "nbformat": 4,
 "nbformat_minor": 5
}
