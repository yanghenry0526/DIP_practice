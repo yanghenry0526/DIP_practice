{
 "cells": [
  {
   "cell_type": "code",
   "execution_count": 8,
   "id": "88d69fbe",
   "metadata": {},
   "outputs": [
    {
     "data": {
      "text/plain": [
       "True"
      ]
     },
     "execution_count": 8,
     "metadata": {},
     "output_type": "execute_result"
    }
   ],
   "source": [
    "import numpy as np\n",
    "import cv2\n",
    "from numpy.random import uniform,normal  #隨機取樣的指令\n",
    "\n",
    "imgs = cv2.imread('lena.jpg')\n",
    "imgs = cv2.resize(imgs, (225, 225))\n",
    "imgs = cv2.cvtColor(imgs , cv2.COLOR_BGR2GRAY)  #將圖檔轉稱灰階\n",
    "\n",
    "result = imgs\n",
    "white = 0\n",
    "black = 0\n",
    "probability =0.4 # 機率  百分之20的雜訊\n",
    "r , c = imgs.shape[0:2]   \n",
    "\n",
    "for x in range (r):\n",
    "    for y in range(c):\n",
    "        value  = uniform(0 , 1)\n",
    "        if value > 0 and value < probability / 2 :   \n",
    "            result[x,y] = 0  #加上暗點\n",
    "            black += 1\n",
    "        elif value > probability/2 and value <0.2 :\n",
    "            result[x,y] = 255 #加上亮點\n",
    "            white += 1\n",
    "        else : \n",
    "            result[x,y] = imgs[x,y] #其他的維持不變\n",
    "        \n",
    "cv2.imwrite('salt_noise_bald_40%.jpg' , result)"
   ]
  },
  {
   "cell_type": "code",
   "execution_count": null,
   "id": "a163567b",
   "metadata": {},
   "outputs": [],
   "source": []
  },
  {
   "cell_type": "code",
   "execution_count": null,
   "id": "5464cfa8",
   "metadata": {},
   "outputs": [],
   "source": []
  }
 ],
 "metadata": {
  "kernelspec": {
   "display_name": "Python 3 (ipykernel)",
   "language": "python",
   "name": "python3"
  },
  "language_info": {
   "codemirror_mode": {
    "name": "ipython",
    "version": 3
   },
   "file_extension": ".py",
   "mimetype": "text/x-python",
   "name": "python",
   "nbconvert_exporter": "python",
   "pygments_lexer": "ipython3",
   "version": "3.7.13"
  }
 },
 "nbformat": 4,
 "nbformat_minor": 5
}
