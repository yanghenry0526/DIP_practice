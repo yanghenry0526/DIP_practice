{
 "cells": [
  {
   "cell_type": "code",
   "execution_count": 13,
   "id": "7fd89b51",
   "metadata": {},
   "outputs": [
    {
     "data": {
      "text/plain": [
       "-1"
      ]
     },
     "execution_count": 13,
     "metadata": {},
     "output_type": "execute_result"
    }
   ],
   "source": [
    "import cv2\n",
    "\n",
    "imgs = cv2.imread('salt_noise_bald_40%.jpg')\n",
    "# imgd = cv2.blur(imgs,(3,3)) #3*3的視窗濾雜訊，平均值濾波器\n",
    "imgd = cv2.medianBlur(imgs,(7)) #中值濾波器\n",
    "\n",
    "# cv2.imshow('noise',imgs)\n",
    "# cv2.imshow('result',imgd)\n",
    "\n",
    "cv2.imwrite('salt_7X7.jpg' , imgd)\n",
    "cv2.waitKey(0)"
   ]
  },
  {
   "cell_type": "code",
   "execution_count": null,
   "id": "06ec76ba",
   "metadata": {},
   "outputs": [],
   "source": []
  },
  {
   "cell_type": "code",
   "execution_count": null,
   "id": "2fd6f977",
   "metadata": {},
   "outputs": [],
   "source": []
  }
 ],
 "metadata": {
  "kernelspec": {
   "display_name": "Python 3 (ipykernel)",
   "language": "python",
   "name": "python3"
  },
  "language_info": {
   "codemirror_mode": {
    "name": "ipython",
    "version": 3
   },
   "file_extension": ".py",
   "mimetype": "text/x-python",
   "name": "python",
   "nbconvert_exporter": "python",
   "pygments_lexer": "ipython3",
   "version": "3.7.15"
  }
 },
 "nbformat": 4,
 "nbformat_minor": 5
}
